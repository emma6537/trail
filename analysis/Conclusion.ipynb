{
 "cells": [
  {
   "cell_type": "markdown",
   "id": "3a475887",
   "metadata": {},
   "source": [
    "---\n",
    "format: \n",
    "  html:\n",
    "    toc: true\n",
    "execute:\n",
    "  echo: true\n",
    "---"
   ]
  },
  {
   "cell_type": "markdown",
   "id": "34276e0e",
   "metadata": {},
   "source": [
    "# Conclusion"
   ]
  },
  {
   "cell_type": "markdown",
   "id": "f074c09a",
   "metadata": {},
   "source": [
    "This study analyzes Utah real estate data, visualizes the relationships between variables through data visualization techniques, and obtains the target variable of the study: unit home prices through feature engineering techniques. The optimal mean kmeans model was obtained using clustering techniques, and by constructing a total of five machine learning models, Bayesian Ridge (Bayesian Ridge Regression), Linear Regression, ElasticNet (Elastic Network Regression), SVR (Support Vector Regression), and GBR (Gradient Boosted Regression), using cross-validation and Grid tuning and other methods, to get the optimal algorithm for predicting house prices is the gradient boosting regression model, and based on the gradient boosting regression model to get the ranking of factors affecting house prices. The research has important value and significance."
   ]
  }
 ],
 "metadata": {
  "kernelspec": {
   "display_name": "base",
   "language": "python",
   "name": "python3"
  },
  "language_info": {
   "codemirror_mode": {
    "name": "ipython",
    "version": 3
   },
   "file_extension": ".py",
   "mimetype": "text/x-python",
   "name": "python",
   "nbconvert_exporter": "python",
   "pygments_lexer": "ipython3",
   "version": "3.11.4"
  }
 },
 "nbformat": 4,
 "nbformat_minor": 5
}
